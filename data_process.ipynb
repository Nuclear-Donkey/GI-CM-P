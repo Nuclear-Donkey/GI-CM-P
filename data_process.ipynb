{
 "cells": [
  {
   "cell_type": "markdown",
   "source": [],
   "metadata": {
    "collapsed": false
   },
   "id": "ca504c4513e80cd0"
  },
  {
   "cell_type": "code",
   "execution_count": 36,
   "outputs": [],
   "source": [
    "import pandas as pd\n",
    "import os\n",
    "\n",
    "folder_path = 'data/2022'  # 文件夹路径\n",
    "output_folder_path = 'data/2022'  # 输出文件夹路径\n",
    "\n",
    "# 遍历文件夹中的xls文件\n",
    "for file_name in os.listdir(folder_path):\n",
    "    if file_name.endswith('.xls'):\n",
    "        file_path = os.path.join(folder_path, file_name)\n",
    "        \n",
    "        # 读取xls文件内容\n",
    "        df = pd.read_excel(file_path)\n",
    "        \n",
    "        # 空值行处理 \n",
    "        df = df.fillna(0)\n",
    "        \n",
    "        \n",
    "        # 删除第一行\n",
    "        df = df.iloc[1:]\n",
    "        \n",
    "        \n",
    "        # 删除指定列\n",
    "        df = df.drop(columns=[df.columns[0], df.columns[1],df.columns[2], df.columns[4]])\n",
    "        # 重命名\n",
    "        df.columns=[ 'SL', 'LL']\n",
    "        \n",
    "        # 添加一个新的'Date'列，并插入到第一列位置\n",
    "        df.insert(0, 'date', range(len(df)))\n",
    "        \n",
    "        # 将包含负值的列转换为数值类型\n",
    "        numeric_cols = ['SL', 'LL']\n",
    "        df[numeric_cols] = df[numeric_cols].apply(pd.to_numeric, errors='coerce')\n",
    "        \n",
    "        # 将负值替换为0\n",
    "        df[numeric_cols] = df[numeric_cols].apply(lambda x: x.clip(lower=0))\n",
    "        \n",
    "        # 保存处理后的数据到新的csv文件\n",
    "        output_file_path = os.path.join(output_folder_path, os.path.splitext(file_name)[0] + '.csv')\n",
    "        df.to_csv(output_file_path, index=False)"
   ],
   "metadata": {
    "collapsed": false,
    "ExecuteTime": {
     "end_time": "2023-12-20T12:40:46.301706500Z",
     "start_time": "2023-12-20T12:40:44.395292300Z"
    }
   },
   "id": "d5b160ac2a3f38fc"
  },
  {
   "cell_type": "code",
   "execution_count": null,
   "outputs": [],
   "source": [],
   "metadata": {
    "collapsed": false
   },
   "id": "63e97bb9152456c5"
  },
  {
   "cell_type": "code",
   "execution_count": 37,
   "outputs": [],
   "source": [
    "import os\n",
    "import pandas as pd\n",
    "\n",
    "# 定义文件夹路径\n",
    "folder_path = 'data/2022/train'\n",
    "\n",
    "# 获取所有CSV文件名\n",
    "csv_files = [f for f in os.listdir(folder_path) if f.endswith('.csv')]\n",
    "\n",
    "# 遍历所有CSV文件\n",
    "for file_name in csv_files:\n",
    "    # 读取CSV文件前46*7行\n",
    "    df = pd.read_csv(os.path.join(folder_path, file_name), header=0, nrows=46*7)\n",
    "\n",
    "    # 写入数据到测试文件\n",
    "    output_file_name = file_name[:-4] + '_test.csv'\n",
    "    df.to_csv(os.path.join(folder_path, output_file_name), index=False)"
   ],
   "metadata": {
    "collapsed": false,
    "ExecuteTime": {
     "end_time": "2023-12-20T12:41:47.634454800Z",
     "start_time": "2023-12-20T12:41:47.585302200Z"
    }
   },
   "id": "209ed9be416fd01"
  },
  {
   "cell_type": "code",
   "execution_count": 9,
   "outputs": [],
   "source": [
    "# 提取前n行数据保存为新的文件\n",
    "import pandas as pd\n",
    "\n",
    "# 从原始 CSV 文件中读取数据\n",
    "df = pd.read_csv('data/Orebro/Exp09.csv')\n",
    "\n",
    "# 提取前 1000 行数据\n",
    "df_new = df[999:1999]\n",
    "\n",
    "# 将提取的数据保存为新的 CSV 文件\n",
    "df_new.to_csv('data/Orebro/Exp09_test_1000.csv', index=False)\n"
   ],
   "metadata": {
    "collapsed": false,
    "ExecuteTime": {
     "end_time": "2024-02-20T12:37:16.809828900Z",
     "start_time": "2024-02-20T12:37:16.737020500Z"
    }
   },
   "id": "72e3aa0cee63dcfa"
  },
  {
   "cell_type": "code",
   "execution_count": null,
   "outputs": [],
   "source": [],
   "metadata": {
    "collapsed": false
   },
   "id": "7b70f86b118d5923"
  }
 ],
 "metadata": {
  "kernelspec": {
   "name": "tcn-gun",
   "language": "python",
   "display_name": "TCN-GUN"
  },
  "language_info": {
   "codemirror_mode": {
    "name": "ipython",
    "version": 2
   },
   "file_extension": ".py",
   "mimetype": "text/x-python",
   "name": "python",
   "nbconvert_exporter": "python",
   "pygments_lexer": "ipython2",
   "version": "2.7.6"
  }
 },
 "nbformat": 4,
 "nbformat_minor": 5
}
